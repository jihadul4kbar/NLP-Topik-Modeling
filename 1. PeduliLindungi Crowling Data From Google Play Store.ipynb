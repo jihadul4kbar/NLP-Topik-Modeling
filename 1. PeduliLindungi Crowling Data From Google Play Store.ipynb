{
 "cells": [
  {
   "cell_type": "markdown",
   "id": "d657b5d8",
   "metadata": {},
   "source": [
    "# 1. Peduli Lindungi Crowling Data From Google Play Store"
   ]
  },
  {
   "cell_type": "code",
   "execution_count": 1,
   "id": "f7be9c15",
   "metadata": {},
   "outputs": [],
   "source": [
    "import time\n",
    "from bs4 import BeautifulSoup"
   ]
  },
  {
   "cell_type": "code",
   "execution_count": 6,
   "id": "de136087",
   "metadata": {},
   "outputs": [],
   "source": [
    "import json\n",
    "import pandas as pd\n",
    "from tqdm import tqdm\n",
    "\n",
    "import seaborn as sns\n",
    "import matplotlib.pyplot as plt\n",
    "\n",
    "from pygments import highlight\n",
    "from pygments.lexers import JsonLexer\n",
    "from pygments.formatters import TerminalFormatter\n",
    "\n",
    "from google_play_scraper import Sort, reviews, app\n",
    "\n",
    "%matplotlib inline\n",
    "%config InlineBackend.figure_format='retina'\n",
    "\n",
    "sns.set(style='whitegrid', palette='muted', font_scale=1.2)"
   ]
  },
  {
   "cell_type": "markdown",
   "id": "51eb6b8b",
   "metadata": {},
   "source": [
    "sumber 1.  [link](https://towardsdatascience.com/create-dataset-for-sentiment-analysis-by-scraping-google-play-app-reviews-using-python-ceaaa0e41c1)\n",
    " 2. [github](https://github.com/JoMingyu/google-play-scraper)\n",
    "sumber data crowling : https://play.google.com/store/apps/details?id=com.telkom.tracencare&hl=in&gl=US"
   ]
  },
  {
   "cell_type": "code",
   "execution_count": 7,
   "id": "501e907a",
   "metadata": {},
   "outputs": [],
   "source": [
    "app_packages = [\n",
    "  'com.telkom.tracencare'\n",
    "]"
   ]
  },
  {
   "cell_type": "code",
   "execution_count": 8,
   "id": "740d8e55",
   "metadata": {},
   "outputs": [
    {
     "name": "stderr",
     "output_type": "stream",
     "text": [
      "100%|████████████████████████████████████████████████████████████████████████████████████| 1/1 [00:01<00:00,  1.45s/it]\n"
     ]
    }
   ],
   "source": [
    "app_infos = []\n",
    "\n",
    "for ap in tqdm(app_packages):\n",
    "  info = app(ap, lang='en', country='us')\n",
    "  del info['comments']\n",
    "  app_infos.append(info)"
   ]
  },
  {
   "cell_type": "code",
   "execution_count": 9,
   "id": "8b5e0fba",
   "metadata": {},
   "outputs": [],
   "source": [
    "def print_json(json_object):\n",
    "  json_str = json.dumps(\n",
    "    json_object,\n",
    "    indent=2,\n",
    "    sort_keys=True,\n",
    "    default=str\n",
    "  )\n",
    "  print(highlight(json_str, JsonLexer(), TerminalFormatter()))"
   ]
  },
  {
   "cell_type": "code",
   "execution_count": 10,
   "id": "3d4778d0",
   "metadata": {},
   "outputs": [
    {
     "name": "stdout",
     "output_type": "stream",
     "text": [
      "{\n",
      "  \u001b[94m\"adSupported\"\u001b[39;49;00m: \u001b[34mnull\u001b[39;49;00m,\n",
      "  \u001b[94m\"androidVersion\"\u001b[39;49;00m: \u001b[33m\"5.0\"\u001b[39;49;00m,\n",
      "  \u001b[94m\"androidVersionText\"\u001b[39;49;00m: \u001b[33m\"5.0 and up\"\u001b[39;49;00m,\n",
      "  \u001b[94m\"appId\"\u001b[39;49;00m: \u001b[33m\"com.telkom.tracencare\"\u001b[39;49;00m,\n",
      "  \u001b[94m\"containsAds\"\u001b[39;49;00m: \u001b[34mfalse\u001b[39;49;00m,\n",
      "  \u001b[94m\"contentRating\"\u001b[39;49;00m: \u001b[33m\"Everyone\"\u001b[39;49;00m,\n",
      "  \u001b[94m\"contentRatingDescription\"\u001b[39;49;00m: \u001b[34mnull\u001b[39;49;00m,\n",
      "  \u001b[94m\"currency\"\u001b[39;49;00m: \u001b[33m\"USD\"\u001b[39;49;00m,\n",
      "  \u001b[94m\"description\"\u001b[39;49;00m: \u001b[33m\"PeduliLindungi adalah aplikasi yang dikembangkan untuk menghentikan penularan Coronavirus Disease (COVID-19). Mengandalkan kepedulian serta partisipasi masyarakat untuk saling jaga dan meminimalisir resiko penyebaran COVID-19. \\r\\n\\r\\nHal ini ditujukan untuk melakukan pengawasan lokasi padat dan ramai yang memiliki resiko tinggi yang nantinya bermanfaat dalam menelusuri riwayat COVID-19 (Contact Tracing). Aplikasi akan mengidentifikasi status riwayat kontak atau kasus Covid-19 pengguna serta status vaksinasinya. Hal ini dilakukan untuk mendukung program penghentian penyebaran COVID-19 yang sedang diusahakan oleh pemerintah.\\r\\n\\r\\nSelain tujuan di atas, aplikasi ini juga dimanfaatkan untuk melakukan pendaftaran vaksinasi, scan QR untuk Check-In/Out dan dokumen perjalanan. Semua terkumpul jadi satu melalui aplikasi PeduliLindungi untuk memudahkan pengguna. \\r\\n\\r\\nSekecil apapun partisipasi Anda akan sangat berarti untuk menghentikan penularan COVID-19. Harapannya, adanya PeduliLindungi sebagai akses dan media, ditambah dengan partisipasi masyarakat dengan mengunduh dan menggunakan aplikasi ini, Indonesia bisa segera bebas dari COVID-19 dan bangkit kembali. \\r\\n\\r\\n* PeduliLindungi didukung oleh Kementerian Komunikasi dan Informatika, Kementerian Kesehatan, Kementerian BUMN dan Badan Nasional Penanggulangan Bencana.\"\u001b[39;49;00m,\n",
      "  \u001b[94m\"descriptionHTML\"\u001b[39;49;00m: \u001b[33m\"PeduliLindungi adalah aplikasi yang dikembangkan untuk menghentikan penularan Coronavirus Disease (COVID-19). Mengandalkan kepedulian serta partisipasi masyarakat untuk saling jaga dan meminimalisir resiko penyebaran COVID-19. <br><br>Hal ini ditujukan untuk melakukan pengawasan lokasi padat dan ramai yang memiliki resiko tinggi yang nantinya bermanfaat dalam menelusuri riwayat COVID-19 (Contact Tracing). Aplikasi akan mengidentifikasi status riwayat kontak atau kasus Covid-19 pengguna serta status vaksinasinya. Hal ini dilakukan untuk mendukung program penghentian penyebaran COVID-19 yang sedang diusahakan oleh pemerintah.<br><br>Selain tujuan di atas, aplikasi ini juga dimanfaatkan untuk melakukan pendaftaran vaksinasi, scan QR untuk Check-In/Out dan dokumen perjalanan. Semua terkumpul jadi satu melalui aplikasi PeduliLindungi untuk memudahkan pengguna. <br><br>Sekecil apapun partisipasi Anda akan sangat berarti untuk menghentikan penularan COVID-19. Harapannya, adanya PeduliLindungi sebagai akses dan media, ditambah dengan partisipasi masyarakat dengan mengunduh dan menggunakan aplikasi ini, Indonesia bisa segera bebas dari COVID-19 dan bangkit kembali. <br><br>* PeduliLindungi didukung oleh Kementerian Komunikasi dan Informatika, Kementerian Kesehatan, Kementerian BUMN dan Badan Nasional Penanggulangan Bencana.\"\u001b[39;49;00m,\n",
      "  \u001b[94m\"developer\"\u001b[39;49;00m: \u001b[33m\"Ministry of Health Republic of Indonesia\"\u001b[39;49;00m,\n",
      "  \u001b[94m\"developerAddress\"\u001b[39;49;00m: \u001b[33m\"Jl. H.R. Rasuna Said Blok X-5 Kav.4-9, Jakarta Selatan\"\u001b[39;49;00m,\n",
      "  \u001b[94m\"developerEmail\"\u001b[39;49;00m: \u001b[33m\"pedulilindungi@kominfo.go.id\"\u001b[39;49;00m,\n",
      "  \u001b[94m\"developerId\"\u001b[39;49;00m: \u001b[33m\"7314860221926377334\"\u001b[39;49;00m,\n",
      "  \u001b[94m\"developerInternalID\"\u001b[39;49;00m: \u001b[33m\"7314860221926377334\"\u001b[39;49;00m,\n",
      "  \u001b[94m\"developerWebsite\"\u001b[39;49;00m: \u001b[33m\"https://www.pedulilindungi.id/\"\u001b[39;49;00m,\n",
      "  \u001b[94m\"editorsChoice\"\u001b[39;49;00m: \u001b[34mfalse\u001b[39;49;00m,\n",
      "  \u001b[94m\"free\"\u001b[39;49;00m: \u001b[34mtrue\u001b[39;49;00m,\n",
      "  \u001b[94m\"genre\"\u001b[39;49;00m: \u001b[33m\"Medical\"\u001b[39;49;00m,\n",
      "  \u001b[94m\"genreId\"\u001b[39;49;00m: \u001b[33m\"MEDICAL\"\u001b[39;49;00m,\n",
      "  \u001b[94m\"headerImage\"\u001b[39;49;00m: \u001b[33m\"https://play-lh.googleusercontent.com/BF90FJqUjimNiqiEMO7mFNrP3D6czy2wZ6nEVZG5t3gekitXszr2lbm-cthyIleXzz4\"\u001b[39;49;00m,\n",
      "  \u001b[94m\"histogram\"\u001b[39;49;00m: [\n",
      "    \u001b[34m283313\u001b[39;49;00m,\n",
      "    \u001b[34m31111\u001b[39;49;00m,\n",
      "    \u001b[34m50308\u001b[39;49;00m,\n",
      "    \u001b[34m62885\u001b[39;49;00m,\n",
      "    \u001b[34m201232\u001b[39;49;00m\n",
      "  ],\n",
      "  \u001b[94m\"icon\"\u001b[39;49;00m: \u001b[33m\"https://play-lh.googleusercontent.com/8ihjhDymV5YuCYebEOyu3nXnuH9Ce3YZfWcI86DPA_KjRkKTyauoPCgqS7tfAkbPqR9X\"\u001b[39;49;00m,\n",
      "  \u001b[94m\"inAppProductPrice\"\u001b[39;49;00m: \u001b[34mnull\u001b[39;49;00m,\n",
      "  \u001b[94m\"installs\"\u001b[39;49;00m: \u001b[33m\"50,000,000+\"\u001b[39;49;00m,\n",
      "  \u001b[94m\"minInstalls\"\u001b[39;49;00m: \u001b[34m50000000\u001b[39;49;00m,\n",
      "  \u001b[94m\"moreByDeveloper\"\u001b[39;49;00m: \u001b[34mnull\u001b[39;49;00m,\n",
      "  \u001b[94m\"offersIAP\"\u001b[39;49;00m: \u001b[34mfalse\u001b[39;49;00m,\n",
      "  \u001b[94m\"originalPrice\"\u001b[39;49;00m: \u001b[34mnull\u001b[39;49;00m,\n",
      "  \u001b[94m\"price\"\u001b[39;49;00m: \u001b[34m0\u001b[39;49;00m,\n",
      "  \u001b[94m\"privacyPolicy\"\u001b[39;49;00m: \u001b[33m\"https://pedulilindungi.id/kebijakan-privasi-data\"\u001b[39;49;00m,\n",
      "  \u001b[94m\"ratings\"\u001b[39;49;00m: \u001b[34m628849\u001b[39;49;00m,\n",
      "  \u001b[94m\"recentChanges\"\u001b[39;49;00m: \u001b[33m\"Untuk meningkatkan fungsi pada aplikasi PeduliLindungi, kami menambahkan beberapa penyempurnaan seperti:\\r\\n- Penambahan opsi bahasa Mandarin, Jepang, Rusia, Korea, dan Spanyol\\r\\n- Perbaikan pada fitur e-HAC\\r\\n- Fitur Klaim Sertifikat dan integrasi dengan Chatbot Kementerian Kesehatan\\r\\n- Menambahkan FAQ tentang status warna\\r\\nKami juga sudah membasmi bugs di aplikasi sehingga Anda bisa menggunakannya dengan lancar. Tetap jaga kesehatan & gunakan masker saat bepergian.\"\u001b[39;49;00m,\n",
      "  \u001b[94m\"recentChangesHTML\"\u001b[39;49;00m: \u001b[33m\"Untuk meningkatkan fungsi pada aplikasi PeduliLindungi, kami menambahkan beberapa penyempurnaan seperti:<br>- Penambahan opsi bahasa Mandarin, Jepang, Rusia, Korea, dan Spanyol<br>- Perbaikan pada fitur e-HAC<br>- Fitur Klaim Sertifikat dan integrasi dengan Chatbot Kementerian Kesehatan<br>- Menambahkan FAQ tentang status warna<br>Kami juga sudah membasmi bugs di aplikasi sehingga Anda bisa menggunakannya dengan lancar. Tetap jaga kesehatan &amp; gunakan masker saat bepergian.\"\u001b[39;49;00m,\n",
      "  \u001b[94m\"released\"\u001b[39;49;00m: \u001b[33m\"Aug 2, 2021\"\u001b[39;49;00m,\n",
      "  \u001b[94m\"reviews\"\u001b[39;49;00m: \u001b[34m526\u001b[39;49;00m,\n",
      "  \u001b[94m\"sale\"\u001b[39;49;00m: \u001b[34mfalse\u001b[39;49;00m,\n",
      "  \u001b[94m\"saleText\"\u001b[39;49;00m: \u001b[34mnull\u001b[39;49;00m,\n",
      "  \u001b[94m\"saleTime\"\u001b[39;49;00m: \u001b[34mnull\u001b[39;49;00m,\n",
      "  \u001b[94m\"score\"\u001b[39;49;00m: \u001b[34m2.79\u001b[39;49;00m,\n",
      "  \u001b[94m\"screenshots\"\u001b[39;49;00m: [\n",
      "    \u001b[33m\"https://play-lh.googleusercontent.com/tXuFwWJn9aNRmuS2utxGIQVIRZ5PEzo_Wb95JWyBSZqsGOt8Hw55NyAKnHzkTVLuP08\"\u001b[39;49;00m,\n",
      "    \u001b[33m\"https://play-lh.googleusercontent.com/SdP1rLVzOlKib1yER5sWTzdmlGvqvtdrj5mkYKNQerfGHqCsQTOKIJzD7_ygs20-mwdr\"\u001b[39;49;00m,\n",
      "    \u001b[33m\"https://play-lh.googleusercontent.com/40gByt_rqG986Zc0XE1K-Myr1oQExtq8W7mgtHtuFa742VTqDjBTGXRfpBjiEcFYnsg\"\u001b[39;49;00m,\n",
      "    \u001b[33m\"https://play-lh.googleusercontent.com/hL6GIuyhTcgBbrrCsM3lew4ymHMfeV9pNdHyr2HJqt_rBGYTlEiv3L6eoxthch3VJlU\"\u001b[39;49;00m,\n",
      "    \u001b[33m\"https://play-lh.googleusercontent.com/faP1r3WKOF4wVtqBboQg_wt-6CmjkOz-mIuN7iZeHfFMGcJNCbJf7H6_1aRXptRGuIO1\"\u001b[39;49;00m,\n",
      "    \u001b[33m\"https://play-lh.googleusercontent.com/LnWrVkhj_1ObbplV44x5xnfWTzMMKbswq7HAH60vNzrV86ZRmkk4VweLARYjq7kxHnc\"\u001b[39;49;00m,\n",
      "    \u001b[33m\"https://play-lh.googleusercontent.com/vPELOe3RccZg7MnoOHGQRR0vvxPzkcSkSnRfCwPKdK0hsGm49ubT0na-BR9EHI3p-xc\"\u001b[39;49;00m,\n",
      "    \u001b[33m\"https://play-lh.googleusercontent.com/g_3dUMw6qQBXI-yXmI3O82iGF-oSxxdTghrZIm1S_-94urMocnXNVo0X1ZnI7P-_Qa8B\"\u001b[39;49;00m,\n",
      "    \u001b[33m\"https://play-lh.googleusercontent.com/mbUS60NQ7k_EHCEx_3rPgfkpUy_ynJUDXw82CwOQh9HhbmMrJ1pda7B91hK0YAVvxx95\"\u001b[39;49;00m,\n",
      "    \u001b[33m\"https://play-lh.googleusercontent.com/jEXE6Dg8-76yenGMSA7JEBTCjPGQUHerboYqIaiaHlxZ71mYrEXkNqa2DQGCjwUk_fs\"\u001b[39;49;00m,\n",
      "    \u001b[33m\"https://play-lh.googleusercontent.com/jAAH_GnGJGvYl2n1_2Uo5hOrhknnpJW61QRc2KTG-Mvu5V6NGrR1BoSgf6zRioRvQg\"\u001b[39;49;00m,\n",
      "    \u001b[33m\"https://play-lh.googleusercontent.com/YBhhrxjoaHYHRsZPZS-RzJ6gF2FnYk5jCkN45NOC0MFRul9YbnIBRfmD4jPSiKPnFQ\"\u001b[39;49;00m,\n",
      "    \u001b[33m\"https://play-lh.googleusercontent.com/-3mEvIWOvKKqAmHh8pd_b3OifV81Bib9ieiZLlC1pFvS9UqMcGja8ybeDJJ5PzadvfA\"\u001b[39;49;00m,\n",
      "    \u001b[33m\"https://play-lh.googleusercontent.com/9hUHpRG1h35u-YPI_WPoYUt-_xoL0nsXjVUjCh2ys6UD80jwG4ShZPgQtJxQy8NS_9k\"\u001b[39;49;00m,\n",
      "    \u001b[33m\"https://play-lh.googleusercontent.com/WN3_MCCSnIzbrzsxD9zvePlomEwei5pwiz6bE8hXJkgT7CkwEIJWggDXW7oRocG6JD8\"\u001b[39;49;00m\n",
      "  ],\n",
      "  \u001b[94m\"similarApps\"\u001b[39;49;00m: [\n",
      "    \u001b[33m\"com.lazada.android\"\u001b[39;49;00m,\n",
      "    \u001b[33m\"com.traveloka.android\"\u001b[39;49;00m,\n",
      "    \u001b[33m\"com.grabtaxi.passenger\"\u001b[39;49;00m,\n",
      "    \u001b[33m\"cn.wps.moffice_eng\"\u001b[39;49;00m,\n",
      "    \u001b[33m\"com.shopback.app\"\u001b[39;49;00m\n",
      "  ],\n",
      "  \u001b[94m\"size\"\u001b[39;49;00m: \u001b[33m\"37M\"\u001b[39;49;00m,\n",
      "  \u001b[94m\"summary\"\u001b[39;49;00m: \u001b[33m\"Let's care, protect, help stop the spread of Coronavirus Disease (COVID-19).\"\u001b[39;49;00m,\n",
      "  \u001b[94m\"summaryHTML\"\u001b[39;49;00m: \u001b[33m\"Let&#39;s care, protect, help stop the spread of Coronavirus Disease (COVID-19).\"\u001b[39;49;00m,\n",
      "  \u001b[94m\"title\"\u001b[39;49;00m: \u001b[33m\"PeduliLindungi\"\u001b[39;49;00m,\n",
      "  \u001b[94m\"updated\"\u001b[39;49;00m: \u001b[34m1637327314\u001b[39;49;00m,\n",
      "  \u001b[94m\"url\"\u001b[39;49;00m: \u001b[33m\"https://play.google.com/store/apps/details?id=com.telkom.tracencare&hl=en&gl=us\"\u001b[39;49;00m,\n",
      "  \u001b[94m\"version\"\u001b[39;49;00m: \u001b[33m\"4.0.5\"\u001b[39;49;00m,\n",
      "  \u001b[94m\"video\"\u001b[39;49;00m: \u001b[34mnull\u001b[39;49;00m,\n",
      "  \u001b[94m\"videoImage\"\u001b[39;49;00m: \u001b[34mnull\u001b[39;49;00m\n",
      "}\n",
      "\n"
     ]
    }
   ],
   "source": [
    "print_json(app_infos[0])"
   ]
  },
  {
   "cell_type": "code",
   "execution_count": 2,
   "id": "d344fb72",
   "metadata": {},
   "outputs": [],
   "source": [
    "from google_play_scraper import app\n",
    "\n",
    "result = app(\n",
    "    'com.telkom.tracencare',\n",
    "    lang='id', # defaults to 'en'\n",
    "    country='id' # defaults to 'us'\n",
    ")\n"
   ]
  },
  {
   "cell_type": "code",
   "execution_count": 14,
   "id": "8ee493e9",
   "metadata": {},
   "outputs": [
    {
     "name": "stderr",
     "output_type": "stream",
     "text": [
      "100%|████████████████████████████████████████████████████████████████████████████████████| 1/1 [00:07<00:00,  7.91s/it]\n"
     ]
    }
   ],
   "source": [
    "app_reviews = []\n",
    "\n",
    "for ap in tqdm(app_packages):\n",
    "  for score in list(range(1, 6)):\n",
    "    for sort_order in [Sort.MOST_RELEVANT, Sort.NEWEST]:\n",
    "      rvs, _ = reviews(\n",
    "        ap,\n",
    "        lang='id',\n",
    "        country='id',\n",
    "        sort=sort_order,\n",
    "        count= 200 if score == 3 else 100,\n",
    "        filter_score_with=score\n",
    "      )\n",
    "      for r in rvs:\n",
    "        r['sortOrder'] = 'most_relevant' if sort_order == Sort.MOST_RELEVANT else 'newest'\n",
    "        r['appId'] = ap\n",
    "      app_reviews.extend(rvs)"
   ]
  },
  {
   "cell_type": "code",
   "execution_count": 15,
   "id": "879b091b",
   "metadata": {},
   "outputs": [
    {
     "name": "stdout",
     "output_type": "stream",
     "text": [
      "{\n",
      "  \u001b[94m\"appId\"\u001b[39;49;00m: \u001b[33m\"com.telkom.tracencare\"\u001b[39;49;00m,\n",
      "  \u001b[94m\"at\"\u001b[39;49;00m: \u001b[33m\"2021-11-30 10:35:52\"\u001b[39;49;00m,\n",
      "  \u001b[94m\"content\"\u001b[39;49;00m: \u001b[33m\"Makin parah sekarang, location error terus padahal sudah on off gps. Tambah lagi sesi habis terus, sampai telat masuk kantor. Segala cara sudah saya coba: restart HP sampai install ulang aplikasi tetap tidak bisa, sampai akhirnya dikasih pengecualian pakai sertifikasi vaksin aja. kalau seperti ini bagaimana saya bisa nyaman masuk tempat umum, karena yang mengalami seperti saya banyak. Tanggapan developernya sudah default: mohon maaf melulu, ga ada update/solusi pastinya, bosan lihatnya. update: yang mengalami ternyata bukan cuma saya, pas saya mau masuk gedung tadi pagi banyak yang bolak balik scan gagal, terus harus login ulang.\"\u001b[39;49;00m,\n",
      "  \u001b[94m\"repliedAt\"\u001b[39;49;00m: \u001b[33m\"2021-11-30 09:30:38\"\u001b[39;49;00m,\n",
      "  \u001b[94m\"replyContent\"\u001b[39;49;00m: \u001b[33m\"Halo David Halim, Kami mohon maaf atas ketidaknyamanan Anda. Kami akan terus berupaya memberikan informasi seakurat mungkin, serta senantiasa memperbaiki performansi aplikasi ini agar lebih mudah digunakan dan kami sangat menghargai kesabaran Anda dalam menunggu perbaikan yang dirilis selanjutnya. Stay Healthy\"\u001b[39;49;00m,\n",
      "  \u001b[94m\"reviewCreatedVersion\"\u001b[39;49;00m: \u001b[33m\"4.0.5\"\u001b[39;49;00m,\n",
      "  \u001b[94m\"reviewId\"\u001b[39;49;00m: \u001b[33m\"gp:AOqpTOHmpZ20iNUNofJPmcZqMiWjYHvbrAS2wZZNr9ymOInkxqPaFgod-TUdlI_9Wr56JXj0eBF5ACzJw-Ru4yo\"\u001b[39;49;00m,\n",
      "  \u001b[94m\"score\"\u001b[39;49;00m: \u001b[34m1\u001b[39;49;00m,\n",
      "  \u001b[94m\"sortOrder\"\u001b[39;49;00m: \u001b[33m\"most_relevant\"\u001b[39;49;00m,\n",
      "  \u001b[94m\"thumbsUpCount\"\u001b[39;49;00m: \u001b[34m193\u001b[39;49;00m,\n",
      "  \u001b[94m\"userImage\"\u001b[39;49;00m: \u001b[33m\"https://play-lh.googleusercontent.com/a-/AOh14Gg2GgaOvChjc82_vaz-royWXTnYrajTBx51EABqRA\"\u001b[39;49;00m,\n",
      "  \u001b[94m\"userName\"\u001b[39;49;00m: \u001b[33m\"David Halim\"\u001b[39;49;00m\n",
      "}\n",
      "\n"
     ]
    }
   ],
   "source": [
    "print_json(app_reviews[0])"
   ]
  },
  {
   "cell_type": "code",
   "execution_count": 16,
   "id": "ed327b51",
   "metadata": {},
   "outputs": [
    {
     "data": {
      "text/plain": [
       "1200"
      ]
     },
     "execution_count": 16,
     "metadata": {},
     "output_type": "execute_result"
    }
   ],
   "source": [
    "len(app_reviews)"
   ]
  },
  {
   "cell_type": "code",
   "execution_count": 17,
   "id": "728e96a1",
   "metadata": {},
   "outputs": [],
   "source": [
    "app_reviews_df = pd.DataFrame(app_reviews)\n",
    "app_reviews_df.to_csv('reviews.csv', index=None, header=True)"
   ]
  },
  {
   "cell_type": "code",
   "execution_count": 3,
   "id": "e4c426e3",
   "metadata": {},
   "outputs": [
    {
     "name": "stdout",
     "output_type": "stream",
     "text": [
      "{'title': 'PeduliLindungi', 'description': 'PeduliLindungi adalah aplikasi yang dikembangkan untuk menghentikan penularan Coronavirus Disease (COVID-19). Mengandalkan kepedulian serta partisipasi masyarakat untuk saling jaga dan meminimalisir resiko penyebaran COVID-19. \\r\\n\\r\\nHal ini ditujukan untuk melakukan pengawasan lokasi padat dan ramai yang memiliki resiko tinggi yang nantinya bermanfaat dalam menelusuri riwayat COVID-19 (Contact Tracing). Aplikasi akan mengidentifikasi status riwayat kontak atau kasus Covid-19 pengguna serta status vaksinasinya. Hal ini dilakukan untuk mendukung program penghentian penyebaran COVID-19 yang sedang diusahakan oleh pemerintah.\\r\\n\\r\\nSelain tujuan di atas, aplikasi ini juga dimanfaatkan untuk melakukan pendaftaran vaksinasi, scan QR untuk Check-In/Out dan dokumen perjalanan. Semua terkumpul jadi satu melalui aplikasi PeduliLindungi untuk memudahkan pengguna. \\r\\n\\r\\nSekecil apapun partisipasi Anda akan sangat berarti untuk menghentikan penularan COVID-19. Harapannya, adanya PeduliLindungi sebagai akses dan media, ditambah dengan partisipasi masyarakat dengan mengunduh dan menggunakan aplikasi ini, Indonesia bisa segera bebas dari COVID-19 dan bangkit kembali. \\r\\n\\r\\n* PeduliLindungi didukung oleh Kementerian Komunikasi dan Informatika, Kementerian Kesehatan, Kementerian BUMN dan Badan Nasional Penanggulangan Bencana.', 'descriptionHTML': 'PeduliLindungi adalah aplikasi yang dikembangkan untuk menghentikan penularan Coronavirus Disease (COVID-19). Mengandalkan kepedulian serta partisipasi masyarakat untuk saling jaga dan meminimalisir resiko penyebaran COVID-19. <br><br>Hal ini ditujukan untuk melakukan pengawasan lokasi padat dan ramai yang memiliki resiko tinggi yang nantinya bermanfaat dalam menelusuri riwayat COVID-19 (Contact Tracing). Aplikasi akan mengidentifikasi status riwayat kontak atau kasus Covid-19 pengguna serta status vaksinasinya. Hal ini dilakukan untuk mendukung program penghentian penyebaran COVID-19 yang sedang diusahakan oleh pemerintah.<br><br>Selain tujuan di atas, aplikasi ini juga dimanfaatkan untuk melakukan pendaftaran vaksinasi, scan QR untuk Check-In/Out dan dokumen perjalanan. Semua terkumpul jadi satu melalui aplikasi PeduliLindungi untuk memudahkan pengguna. <br><br>Sekecil apapun partisipasi Anda akan sangat berarti untuk menghentikan penularan COVID-19. Harapannya, adanya PeduliLindungi sebagai akses dan media, ditambah dengan partisipasi masyarakat dengan mengunduh dan menggunakan aplikasi ini, Indonesia bisa segera bebas dari COVID-19 dan bangkit kembali. <br><br>* PeduliLindungi didukung oleh Kementerian Komunikasi dan Informatika, Kementerian Kesehatan, Kementerian BUMN dan Badan Nasional Penanggulangan Bencana.', 'summary': 'Mari peduli, lindungi, bantu hentikan penyebaran Coronavirus Disease (COVID-19).', 'summaryHTML': 'Mari peduli, lindungi, bantu hentikan penyebaran Coronavirus Disease (COVID-19).', 'installs': '50.000.000+', 'minInstalls': 50000000, 'score': 3.5354407, 'ratings': 630796, 'reviews': 287866, 'histogram': [174415, 32722, 38329, 51353, 333977], 'price': 0, 'free': True, 'currency': 'IDR', 'sale': False, 'saleTime': None, 'originalPrice': None, 'saleText': None, 'offersIAP': False, 'inAppProductPrice': None, 'size': '37M', 'androidVersion': '5.0', 'androidVersionText': '5.0 dan yang lebih tinggi', 'developer': 'Ministry of Health Republic of Indonesia', 'developerId': '7314860221926377334', 'developerEmail': 'pedulilindungi@kominfo.go.id', 'developerWebsite': 'https://www.pedulilindungi.id/', 'developerAddress': 'Jl. H.R. Rasuna Said Blok X-5 Kav.4-9, Jakarta Selatan', 'privacyPolicy': 'https://pedulilindungi.id/kebijakan-privasi-data', 'developerInternalID': '7314860221926377334', 'genre': 'Kedokteran', 'genreId': 'MEDICAL', 'icon': 'https://play-lh.googleusercontent.com/8ihjhDymV5YuCYebEOyu3nXnuH9Ce3YZfWcI86DPA_KjRkKTyauoPCgqS7tfAkbPqR9X', 'headerImage': 'https://play-lh.googleusercontent.com/BF90FJqUjimNiqiEMO7mFNrP3D6czy2wZ6nEVZG5t3gekitXszr2lbm-cthyIleXzz4', 'screenshots': ['https://play-lh.googleusercontent.com/tXuFwWJn9aNRmuS2utxGIQVIRZ5PEzo_Wb95JWyBSZqsGOt8Hw55NyAKnHzkTVLuP08', 'https://play-lh.googleusercontent.com/SdP1rLVzOlKib1yER5sWTzdmlGvqvtdrj5mkYKNQerfGHqCsQTOKIJzD7_ygs20-mwdr', 'https://play-lh.googleusercontent.com/40gByt_rqG986Zc0XE1K-Myr1oQExtq8W7mgtHtuFa742VTqDjBTGXRfpBjiEcFYnsg', 'https://play-lh.googleusercontent.com/hL6GIuyhTcgBbrrCsM3lew4ymHMfeV9pNdHyr2HJqt_rBGYTlEiv3L6eoxthch3VJlU', 'https://play-lh.googleusercontent.com/faP1r3WKOF4wVtqBboQg_wt-6CmjkOz-mIuN7iZeHfFMGcJNCbJf7H6_1aRXptRGuIO1', 'https://play-lh.googleusercontent.com/LnWrVkhj_1ObbplV44x5xnfWTzMMKbswq7HAH60vNzrV86ZRmkk4VweLARYjq7kxHnc', 'https://play-lh.googleusercontent.com/vPELOe3RccZg7MnoOHGQRR0vvxPzkcSkSnRfCwPKdK0hsGm49ubT0na-BR9EHI3p-xc', 'https://play-lh.googleusercontent.com/g_3dUMw6qQBXI-yXmI3O82iGF-oSxxdTghrZIm1S_-94urMocnXNVo0X1ZnI7P-_Qa8B', 'https://play-lh.googleusercontent.com/mbUS60NQ7k_EHCEx_3rPgfkpUy_ynJUDXw82CwOQh9HhbmMrJ1pda7B91hK0YAVvxx95', 'https://play-lh.googleusercontent.com/jEXE6Dg8-76yenGMSA7JEBTCjPGQUHerboYqIaiaHlxZ71mYrEXkNqa2DQGCjwUk_fs', 'https://play-lh.googleusercontent.com/jAAH_GnGJGvYl2n1_2Uo5hOrhknnpJW61QRc2KTG-Mvu5V6NGrR1BoSgf6zRioRvQg', 'https://play-lh.googleusercontent.com/YBhhrxjoaHYHRsZPZS-RzJ6gF2FnYk5jCkN45NOC0MFRul9YbnIBRfmD4jPSiKPnFQ', 'https://play-lh.googleusercontent.com/-3mEvIWOvKKqAmHh8pd_b3OifV81Bib9ieiZLlC1pFvS9UqMcGja8ybeDJJ5PzadvfA', 'https://play-lh.googleusercontent.com/9hUHpRG1h35u-YPI_WPoYUt-_xoL0nsXjVUjCh2ys6UD80jwG4ShZPgQtJxQy8NS_9k', 'https://play-lh.googleusercontent.com/WN3_MCCSnIzbrzsxD9zvePlomEwei5pwiz6bE8hXJkgT7CkwEIJWggDXW7oRocG6JD8'], 'video': None, 'videoImage': None, 'contentRating': 'Rating 3+', 'contentRatingDescription': None, 'adSupported': None, 'containsAds': False, 'released': '28 Mar 2020', 'updated': 1637327314, 'version': '4.0.5', 'recentChanges': 'Untuk meningkatkan fungsi pada aplikasi PeduliLindungi, kami menambahkan beberapa penyempurnaan seperti:\\r\\n- Penambahan opsi bahasa Mandarin, Jepang, Rusia, Korea, dan Spanyol\\r\\n- Perbaikan pada fitur e-HAC\\r\\n- Fitur Klaim Sertifikat dan integrasi dengan Chatbot Kementerian Kesehatan\\r\\n- Menambahkan FAQ tentang status warna\\r\\nKami juga sudah membasmi bugs di aplikasi sehingga Anda bisa menggunakannya dengan lancar. Tetap jaga kesehatan & gunakan masker saat bepergian.', 'recentChangesHTML': 'Untuk meningkatkan fungsi pada aplikasi PeduliLindungi, kami menambahkan beberapa penyempurnaan seperti:<br>- Penambahan opsi bahasa Mandarin, Jepang, Rusia, Korea, dan Spanyol<br>- Perbaikan pada fitur e-HAC<br>- Fitur Klaim Sertifikat dan integrasi dengan Chatbot Kementerian Kesehatan<br>- Menambahkan FAQ tentang status warna<br>Kami juga sudah membasmi bugs di aplikasi sehingga Anda bisa menggunakannya dengan lancar. Tetap jaga kesehatan &amp; gunakan masker saat bepergian.', 'comments': [], 'editorsChoice': False, 'similarApps': ['com.tokopedia.tkpd', 'com.gojek.app', 'com.app.tokobagus.betterb', 'com.shopee.id', 'com.icon.pln123'], 'moreByDeveloper': None, 'appId': 'com.telkom.tracencare', 'url': 'https://play.google.com/store/apps/details?id=com.telkom.tracencare&hl=id&gl=id'}\n"
     ]
    }
   ],
   "source": [
    "print(result)"
   ]
  },
  {
   "cell_type": "markdown",
   "id": "e6278148",
   "metadata": {},
   "source": [
    "# Tutorial menggunakan \n",
    "https://github.com/JoMingyu/google-play-scraper"
   ]
  },
  {
   "cell_type": "code",
   "execution_count": 4,
   "id": "2057876a",
   "metadata": {},
   "outputs": [],
   "source": [
    "from google_play_scraper import  Sort, reviews"
   ]
  },
  {
   "cell_type": "code",
   "execution_count": 7,
   "id": "a580827d",
   "metadata": {},
   "outputs": [],
   "source": [
    "result, continuation_token = reviews(\n",
    "    'com.telkom.tracencare',\n",
    "    lang='id', # defaults to 'en'\n",
    "    country='id', # defaults to 'us'\n",
    "    sort=Sort.MOST_RELEVANT, # defaults to Sort.MOST_RELEVANT\n",
    "    count=3, # defaults to 100\n",
    "    filter_score_with=5 # defaults to None(means all score)\n",
    ")"
   ]
  },
  {
   "cell_type": "code",
   "execution_count": 8,
   "id": "f693bdcb",
   "metadata": {},
   "outputs": [],
   "source": [
    "# If you pass `continuation_token` as an argument to the reviews function at this point,\n",
    "# it will crawl the items after 3 review items.\n",
    "\n",
    "result, _ = reviews(\n",
    "    'com.telkom.tracencare',\n",
    "    continuation_token=continuation_token # defaults to None(load from the beginning)\n",
    ")"
   ]
  },
  {
   "cell_type": "code",
   "execution_count": 9,
   "id": "b5eae16f",
   "metadata": {},
   "outputs": [
    {
     "name": "stdout",
     "output_type": "stream",
     "text": [
      "[{'reviewId': 'gp:AOqpTOFiz49OQycBdThWElx3iNdeWFtRaNBuahr6rbpsbS70D-pu_FDJEkZaGy5YOI4YTmu3ZhRwLTj_73Qm1MU', 'userName': 'Cahyadi', 'userImage': 'https://play-lh.googleusercontent.com/a/AATXAJy-Bp6FCMRfZhWAK8Wxhe9moKXTqsW1EaYzkzRA=mo', 'content': 'Udah dirubah ke tulisan terkecil tpi ga bisa hp masih kurang gede dan panjang. tolong rubah tampilan apk nya biar yg punya hp murah bisa gunakan apk ini. JGN PAKSA RAKYAT HARUS BELI HP BARU YG LEBIH GEDE DAN PANJANG LAYARNYA. GA PUNYA DUIIIIIT. Hai admin hp saya sekarang sudah bisa menggunakan aplikasi ini. Tadinya tidak bisa karena hp kurang lebar. Sekarang sudah bisa . TERIMA KASIH BANYAK UNTUK TIM PEDULI LINDUNGI . SEMOGA JAYA SELALU. SAYA KASIH BINTANG 5', 'score': 5, 'thumbsUpCount': 15, 'reviewCreatedVersion': '4.0.5', 'at': datetime.datetime(2021, 12, 1, 17, 9, 58), 'replyContent': 'Halo Cahyadi,\\n\\nTerima kasih atas dukungan Anda.\\nKami akan terus berupaya memberikan informasi seakurat mungkin, serta senantiasa memperbaiki performansi aplikasi ini agar lebih mudah digunakan dan kami sangat menghargai kesabaran Anda dalam menunggu perbaikan yang dirilis selanjutnya.\\n\\nStay Healthy', 'repliedAt': datetime.datetime(2021, 12, 1, 19, 18, 29)}, {'reviewId': 'gp:AOqpTOHH5Nve8frNUp_T7fnbR3RpdyWzo7iCoHtdc4m9o87R2i_P4ugH4cAx4_Lk3iRDZGjycr5gg92jn_Qrlwg', 'userName': 'Dessy Murbani', 'userImage': 'https://play-lh.googleusercontent.com/a/AATXAJwJ9JO9Z45agKT7G3ucvOO0LxxJNvVLTB1kQflQ=mo', 'content': \"Saya sudah instal aplikasi perduli lindungi ok g ada masalah ...tapi pada bulan November 21 ini tiba tiba error' sampai saat ini belum bisa di buka aplikasinya ...saya coba uninstall lalu install ulang ....tetap tidak bisa ...sy coba berkali kali tetap saja tidak bisa...mohon bantuannya...😭... Alhamdulillah sudah bisa tgl 04/12/2022 terimakasih 🙏🙏🙏\", 'score': 5, 'thumbsUpCount': 4, 'reviewCreatedVersion': '4.0.5', 'at': datetime.datetime(2021, 12, 4, 5, 50, 12), 'replyContent': 'Halo Kak,\\n\\nSebelumnya kami mohon maaf atas ketidaknyamanan Anda dalam menggunakan aplikasi PeduliLindungi.\\nTerkait permasalahan yang berkaitan dengan aplikasi, Anda dapat menghubungi kami melalui email pedulilindungi@kominfo.go.id.\\n\\nMohon lampirkan juga capture/screenshot dari kendala yang Anda temukan.\\n\\nTerima kasih.\\n\\nStay Healthy\\n', 'repliedAt': datetime.datetime(2021, 11, 15, 10, 39, 46)}, {'reviewId': 'gp:AOqpTOHoHj3qSk2UD_0MWB8DZJvQCHLRNiVXGQEIeELDHV_q5XWI2DVB0lDwVLoKi9-z5MAQb3XjBxpXotRwKbI', 'userName': 'Aan Suhendar', 'userImage': 'https://play-lh.googleusercontent.com/a-/AOh14GghL7__h88XT40_hysnv46sa9c-6zGI3AlqoY3KIg', 'content': 'sya belum faham, vaksin sudah tapi datanya blom muncul di aplikasi ini, dan saya buka aplikasi tiket karena ada keperluan bepergian, ternyata muncul di aplikasi tiket sya sdh di vaksin D1 astra. 🤔', 'score': 5, 'thumbsUpCount': 0, 'reviewCreatedVersion': '4.0.5', 'at': datetime.datetime(2021, 12, 4, 8, 53, 34), 'replyContent': \"Halo,\\nMohon maaf atas ketidaknyamanan Anda.\\nHarap pastikan Anda sudah melakukan registrasi dan melengkapi profil Anda. Jika sudah, sertifikat vaksin dapat di cek pada menu 'Sertifikat Vaksin' di halaman utama aplikasi.\\nJika terkendala silakan hubungi pelayanan vaksinasi 119 ext. 9 atau email ke sertifikat@pedulilindungi.id. Terimakasih\", 'repliedAt': datetime.datetime(2021, 12, 4, 16, 29, 15)}]\n"
     ]
    }
   ],
   "source": [
    "print(result)"
   ]
  },
  {
   "cell_type": "code",
   "execution_count": 10,
   "id": "dd813529",
   "metadata": {},
   "outputs": [
    {
     "data": {
      "text/plain": [
       "3"
      ]
     },
     "execution_count": 10,
     "metadata": {},
     "output_type": "execute_result"
    }
   ],
   "source": [
    "len(result)"
   ]
  },
  {
   "cell_type": "markdown",
   "id": "2aeb253b",
   "metadata": {},
   "source": [
    "# Mengambil Semua Review dengan fungsi review_all\n",
    "Dengan menggunakan library google play scraper memudahkan dalam melakukan scraper pada review google play. Pada review aplikasi peduli lindungi terdapat kurang lebih 16.000 ulasan. Data review tersebut kami scraping untuk di analisa sehingga mendapatkan informasi yang bermanfaat.\n",
    "\n",
    "Berikut Perintah dari library yang digunakan."
   ]
  },
  {
   "cell_type": "markdown",
   "id": "d22e21ac",
   "metadata": {},
   "source": [
    "1. Install Library dan Load library ke dalam proyek."
   ]
  },
  {
   "cell_type": "code",
   "execution_count": 2,
   "id": "cb223e1e",
   "metadata": {},
   "outputs": [],
   "source": [
    "#pip install google_play_scraper"
   ]
  },
  {
   "cell_type": "code",
   "execution_count": 1,
   "id": "19be26c3",
   "metadata": {},
   "outputs": [],
   "source": [
    "from google_play_scraper import Sort, reviews_all"
   ]
  },
  {
   "cell_type": "markdown",
   "id": "35cd1add",
   "metadata": {},
   "source": [
    "2. Mendefinisikan aplikasi google play store yang akan di ambil revienya, disini aplikasinya bernama `com.telkom.tracencare'"
   ]
  },
  {
   "cell_type": "code",
   "execution_count": 2,
   "id": "0c3af06c",
   "metadata": {},
   "outputs": [],
   "source": [
    "results = reviews_all(\n",
    "    'com.telkom.tracencare',\n",
    "    sleep_milliseconds=0, # defaults to 0\n",
    "    lang='id', # defaults to 'en'\n",
    "    country='id', # defaults to 'us'\n",
    "    sort=Sort.MOST_RELEVANT, # defaults to Sort.MOST_RELEVANT\n",
    "#     filter_score_with=5 # defaults to None(means all score)\n",
    ")"
   ]
  },
  {
   "cell_type": "markdown",
   "id": "43ab9027",
   "metadata": {},
   "source": [
    "3. Import Pandas dan meyimpan hasil cscraping kedalam file CSV dengan menggunakan pandas "
   ]
  },
  {
   "cell_type": "code",
   "execution_count": 3,
   "id": "fbf81f07",
   "metadata": {},
   "outputs": [],
   "source": [
    "import pandas as pd"
   ]
  },
  {
   "cell_type": "code",
   "execution_count": 4,
   "id": "8c4450d0",
   "metadata": {},
   "outputs": [],
   "source": [
    "reviews_df = pd.DataFrame(results)\n",
    "reviews_df.to_csv('reviews-all.csv', index=None, header=True)"
   ]
  },
  {
   "cell_type": "code",
   "execution_count": null,
   "id": "1c9e2320",
   "metadata": {},
   "outputs": [],
   "source": []
  }
 ],
 "metadata": {
  "kernelspec": {
   "display_name": "Python 3 (ipykernel)",
   "language": "python",
   "name": "python3"
  },
  "language_info": {
   "codemirror_mode": {
    "name": "ipython",
    "version": 3
   },
   "file_extension": ".py",
   "mimetype": "text/x-python",
   "name": "python",
   "nbconvert_exporter": "python",
   "pygments_lexer": "ipython3",
   "version": "3.9.7"
  }
 },
 "nbformat": 4,
 "nbformat_minor": 5
}
